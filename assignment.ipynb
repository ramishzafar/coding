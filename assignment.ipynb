{
 "cells": [
  {
   "cell_type": "code",
   "execution_count": 13,
   "metadata": {},
   "outputs": [
    {
     "name": "stdout",
     "output_type": "stream",
     "text": [
      "457272\n"
     ]
    }
   ],
   "source": [
    "import re\n",
    "\n",
    "# File Open\n",
    "# Reading file line by line\n",
    "# Extract number from each line using regex\n",
    "# Collection of strings that we get cast/change it into numbers/ints.\n",
    "# Add each number to pattern_matches_sum\n",
    "\n",
    "file = open('regex_sum_1798818.txt')\n",
    "pattern_matches_sum = 0\n",
    "for line in file:\n",
    "    pattern_matches = re.findall('[0-9]+', line)\n",
    "    for number in pattern_matches:\n",
    "        pattern_matches_sum = pattern_matches_sum + int(number)\n",
    "\n",
    "print(pattern_matches_sum)\n",
    "\n",
    "        "
   ]
  },
  {
   "cell_type": "code",
   "execution_count": null,
   "metadata": {},
   "outputs": [],
   "source": []
  }
 ],
 "metadata": {
  "kernelspec": {
   "display_name": "Python 3",
   "language": "python",
   "name": "python3"
  },
  "language_info": {
   "codemirror_mode": {
    "name": "ipython",
    "version": 3
   },
   "file_extension": ".py",
   "mimetype": "text/x-python",
   "name": "python",
   "nbconvert_exporter": "python",
   "pygments_lexer": "ipython3",
   "version": "3.11.3"
  },
  "orig_nbformat": 4
 },
 "nbformat": 4,
 "nbformat_minor": 2
}
